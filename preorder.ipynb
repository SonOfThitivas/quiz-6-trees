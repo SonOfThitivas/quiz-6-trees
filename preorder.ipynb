{
 "cells": [
  {
   "cell_type": "code",
   "execution_count": 1,
   "metadata": {},
   "outputs": [],
   "source": [
    "class BinaryTree:\n",
    "    def __init__(self, root_obj):\n",
    "        self.key = root_obj\n",
    "        self.left_child = None\n",
    "        self.right_child = None\n",
    "\n",
    "    def insert_left(self, new_node):\n",
    "        if self.left_child is None:\n",
    "            self.left_child = BinaryTree(new_node)\n",
    "        else:\n",
    "            new_child = BinaryTree(new_node)\n",
    "            new_child.left_child = self.left_child\n",
    "            self.left_child = new_child\n",
    "\n",
    "    def insert_right(self, new_node):\n",
    "        if self.right_child == None:\n",
    "            self.right_child = BinaryTree(new_node)\n",
    "        else:\n",
    "            new_child = BinaryTree(new_node)\n",
    "            new_child.right_child = self.right_child\n",
    "            self.right_child = new_child\n",
    "\n",
    "    def get_root_val(self):\n",
    "        return self.key\n",
    "\n",
    "    def set_root_val(self, new_obj):\n",
    "        self.key = new_obj\n",
    "\n",
    "    def get_left_child(self):\n",
    "        return self.left_child\n",
    "\n",
    "    def get_right_child(self):\n",
    "        return self.right_child\n",
    "\n",
    "def preorder(exp_tree: BinaryTree):\n",
    "    if exp_tree.left_child == None and exp_tree.right_child == None:        # there is no childs at all\n",
    "        return exp_tree.get_root_val()                                      # return root\n",
    "    \n",
    "    left_child, right_child = preorder(exp_tree.left_child), preorder(exp_tree.right_child) # get left and right child\n",
    "    \n",
    "    return exp_tree.get_root_val() + left_child + right_child"
   ]
  },
  {
   "cell_type": "markdown",
   "metadata": {},
   "source": [
    "# Case example"
   ]
  },
  {
   "cell_type": "code",
   "execution_count": 2,
   "metadata": {},
   "outputs": [
    {
     "name": "stdout",
     "output_type": "stream",
     "text": [
      "+*12/34\n"
     ]
    }
   ],
   "source": [
    "tree = BinaryTree(\"+\")\n",
    "tree.insert_left(\"*\")\n",
    "tree.left_child.insert_left(\"1\")\n",
    "tree.left_child.insert_right(\"2\")\n",
    "tree.insert_right(\"/\")\n",
    "tree.right_child.insert_left(\"3\")\n",
    "tree.right_child.insert_right(\"4\")\n",
    "print(preorder(tree))"
   ]
  },
  {
   "cell_type": "code",
   "execution_count": 3,
   "metadata": {},
   "outputs": [
    {
     "name": "stdout",
     "output_type": "stream",
     "text": [
      "+1/23\n"
     ]
    }
   ],
   "source": [
    "tree = BinaryTree(\"+\")\n",
    "tree.insert_left(\"1\")\n",
    "tree.insert_right(\"/\")\n",
    "tree.right_child.insert_left(\"2\")\n",
    "tree.right_child.insert_right(\"3\")\n",
    "print(preorder(tree))"
   ]
  },
  {
   "cell_type": "code",
   "execution_count": 4,
   "metadata": {},
   "outputs": [
    {
     "name": "stdout",
     "output_type": "stream",
     "text": [
      "+*123\n"
     ]
    }
   ],
   "source": [
    "tree = BinaryTree(\"+\")\n",
    "tree.insert_left(\"*\")\n",
    "tree.left_child.insert_left(\"1\")\n",
    "tree.left_child.insert_right(\"2\")\n",
    "tree.insert_right(\"3\")\n",
    "print(preorder(tree))"
   ]
  }
 ],
 "metadata": {
  "kernelspec": {
   "display_name": "Python 3",
   "language": "python",
   "name": "python3"
  },
  "language_info": {
   "codemirror_mode": {
    "name": "ipython",
    "version": 3
   },
   "file_extension": ".py",
   "mimetype": "text/x-python",
   "name": "python",
   "nbconvert_exporter": "python",
   "pygments_lexer": "ipython3",
   "version": "3.12.1"
  }
 },
 "nbformat": 4,
 "nbformat_minor": 2
}
