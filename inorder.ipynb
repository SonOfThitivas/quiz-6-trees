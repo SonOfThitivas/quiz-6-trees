{
 "cells": [
  {
   "cell_type": "code",
   "execution_count": 5,
   "metadata": {},
   "outputs": [],
   "source": [
    "class BinaryTree:\n",
    "    def __init__(self, root_obj):\n",
    "        self.key = root_obj\n",
    "        self.left_child = None\n",
    "        self.right_child = None\n",
    "\n",
    "    def insert_left(self, new_node):\n",
    "        if self.left_child is None:\n",
    "            self.left_child = BinaryTree(new_node)\n",
    "        else:\n",
    "            new_child = BinaryTree(new_node)\n",
    "            new_child.left_child = self.left_child\n",
    "            self.left_child = new_child\n",
    "\n",
    "    def insert_right(self, new_node):\n",
    "        if self.right_child == None:\n",
    "            self.right_child = BinaryTree(new_node)\n",
    "        else:\n",
    "            new_child = BinaryTree(new_node)\n",
    "            new_child.right_child = self.right_child\n",
    "            self.right_child = new_child\n",
    "\n",
    "    def get_root_val(self):\n",
    "        return self.key\n",
    "\n",
    "    def set_root_val(self, new_obj):\n",
    "        self.key = new_obj\n",
    "\n",
    "    def get_left_child(self):\n",
    "        return self.left_child\n",
    "\n",
    "    def get_right_child(self):\n",
    "        return self.right_child\n",
    "\n",
    "def inorder(exp_tree: BinaryTree):\n",
    "    \n",
    "    if exp_tree.left_child == None and exp_tree.right_child == None:        # there is no childs at all\n",
    "        return exp_tree.get_root_val()                                      # return root\n",
    "    \n",
    "    left_child, right_child = inorder(exp_tree.left_child), inorder(exp_tree.right_child) # get left and right child\n",
    "    \n",
    "    return '(' + left_child + exp_tree.get_root_val() + right_child + ')'"
   ]
  },
  {
   "cell_type": "markdown",
   "metadata": {},
   "source": [
    "# Case example"
   ]
  },
  {
   "cell_type": "code",
   "execution_count": 6,
   "metadata": {},
   "outputs": [
    {
     "name": "stdout",
     "output_type": "stream",
     "text": [
      "((1*2)+(3/4))\n"
     ]
    }
   ],
   "source": [
    "tree = BinaryTree(\"+\")\n",
    "tree.insert_left(\"*\")\n",
    "tree.left_child.insert_left(\"1\")\n",
    "tree.left_child.insert_right(\"2\")\n",
    "tree.insert_right(\"/\")\n",
    "tree.right_child.insert_left(\"3\")\n",
    "tree.right_child.insert_right(\"4\")\n",
    "print(inorder(tree))"
   ]
  },
  {
   "cell_type": "code",
   "execution_count": 7,
   "metadata": {},
   "outputs": [
    {
     "name": "stdout",
     "output_type": "stream",
     "text": [
      "(1+(2/3))\n"
     ]
    }
   ],
   "source": [
    "tree = BinaryTree(\"+\")\n",
    "tree.insert_left(\"1\")\n",
    "tree.insert_right(\"/\")\n",
    "tree.right_child.insert_left(\"2\")\n",
    "tree.right_child.insert_right(\"3\")\n",
    "print(inorder(tree))"
   ]
  },
  {
   "cell_type": "code",
   "execution_count": 8,
   "metadata": {},
   "outputs": [
    {
     "name": "stdout",
     "output_type": "stream",
     "text": [
      "((1*2)+3)\n"
     ]
    }
   ],
   "source": [
    "tree = BinaryTree(\"+\")\n",
    "tree.insert_left(\"*\")\n",
    "tree.left_child.insert_left(\"1\")\n",
    "tree.left_child.insert_right(\"2\")\n",
    "tree.insert_right(\"3\")\n",
    "print(inorder(tree))"
   ]
  },
  {
   "cell_type": "code",
   "execution_count": 9,
   "metadata": {},
   "outputs": [
    {
     "name": "stdout",
     "output_type": "stream",
     "text": [
      "(4*(5-(7+2)))\n"
     ]
    }
   ],
   "source": [
    "tree = BinaryTree(\"*\")\n",
    "tree.insert_left(\"4\")\n",
    "tree.insert_right(\"-\")\n",
    "tree.right_child.insert_left(\"5\")\n",
    "tree.right_child.insert_right(\"+\")\n",
    "tree.right_child.right_child.insert_left(\"7\")\n",
    "tree.right_child.right_child.insert_right(\"2\")\n",
    "print(inorder(tree))"
   ]
  },
  {
   "cell_type": "code",
   "execution_count": 10,
   "metadata": {},
   "outputs": [
    {
     "name": "stdout",
     "output_type": "stream",
     "text": [
      "(((3+4)*2)/7)\n"
     ]
    }
   ],
   "source": [
    "tree = BinaryTree(\"/\")\n",
    "tree.insert_left(\"*\")\n",
    "tree.left_child.insert_left(\"+\")\n",
    "tree.left_child.left_child.insert_left(\"3\")\n",
    "tree.left_child.left_child.insert_right(\"4\")\n",
    "tree.left_child.insert_right(\"2\")\n",
    "tree.insert_right(\"7\")\n",
    "print(inorder(tree))"
   ]
  }
 ],
 "metadata": {
  "kernelspec": {
   "display_name": "Python 3",
   "language": "python",
   "name": "python3"
  },
  "language_info": {
   "codemirror_mode": {
    "name": "ipython",
    "version": 3
   },
   "file_extension": ".py",
   "mimetype": "text/x-python",
   "name": "python",
   "nbconvert_exporter": "python",
   "pygments_lexer": "ipython3",
   "version": "3.12.1"
  }
 },
 "nbformat": 4,
 "nbformat_minor": 2
}
