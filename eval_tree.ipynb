{
 "cells": [
  {
   "cell_type": "code",
   "execution_count": 1,
   "metadata": {},
   "outputs": [],
   "source": [
    "class BinaryTree:\n",
    "    def __init__(self, eval_tree_obj):\n",
    "        self.key = eval_tree_obj\n",
    "        self.left_child = None\n",
    "        self.right_child = None\n",
    "\n",
    "    def insert_left(self, new_node):\n",
    "        if self.left_child is None:\n",
    "            self.left_child = BinaryTree(new_node)\n",
    "        else:\n",
    "            new_child = BinaryTree(new_node)\n",
    "            new_child.left_child = self.left_child\n",
    "            self.left_child = new_child\n",
    "\n",
    "    def insert_right(self, new_node):\n",
    "        if self.right_child == None:\n",
    "            self.right_child = BinaryTree(new_node)\n",
    "        else:\n",
    "            new_child = BinaryTree(new_node)\n",
    "            new_child.right_child = self.right_child\n",
    "            self.right_child = new_child\n",
    "\n",
    "    def get_eval_tree_val(self):\n",
    "        return self.key\n",
    "\n",
    "    def set_eval_tree_val(self, new_obj):\n",
    "        self.key = new_obj\n",
    "\n",
    "    def get_left_child(self):\n",
    "        return self.left_child\n",
    "\n",
    "    def get_right_child(self):\n",
    "        return self.right_child\n",
    "\n",
    "def eval_tree(expr_tree): # ref: https://www.geeksforgeeks.org/evaluation-of-expression-tree/\n",
    "\n",
    "    # empty tree\n",
    "    if expr_tree is None:\n",
    "        return 0\n",
    "\n",
    "    # leaf node\n",
    "    if expr_tree.left_child is None and expr_tree.right_child is None:\n",
    "        return float(expr_tree.get_eval_tree_val())\n",
    "\n",
    "    # evaluate left tree\n",
    "    left_sum = eval_tree(expr_tree.left_child)\n",
    "\n",
    "    # evaluate right tree\n",
    "    right_sum = eval_tree(expr_tree.right_child)\n",
    "\n",
    "    # check which operation to apply\n",
    "    if expr_tree.get_eval_tree_val() == '+':\n",
    "        return left_sum + right_sum\n",
    "\n",
    "    elif expr_tree.get_eval_tree_val() == '-':\n",
    "        return left_sum - right_sum\n",
    "\n",
    "    elif expr_tree.get_eval_tree_val() == '*':\n",
    "        return left_sum * right_sum\n",
    "\n",
    "    else:\n",
    "        return left_sum / right_sum"
   ]
  },
  {
   "cell_type": "markdown",
   "metadata": {},
   "source": [
    "# Case example"
   ]
  },
  {
   "cell_type": "code",
   "execution_count": 2,
   "metadata": {},
   "outputs": [
    {
     "name": "stdout",
     "output_type": "stream",
     "text": [
      "+*12/34 = 2.75\n"
     ]
    }
   ],
   "source": [
    "tree = BinaryTree(\"+\")\n",
    "tree.insert_left(\"*\")\n",
    "tree.left_child.insert_left(\"1\")\n",
    "tree.left_child.insert_right(\"2\")\n",
    "tree.insert_right(\"/\")\n",
    "tree.right_child.insert_left(\"3\")\n",
    "tree.right_child.insert_right(\"4\")\n",
    "print(\"+*12/34 =\",eval_tree(tree))"
   ]
  },
  {
   "cell_type": "code",
   "execution_count": 3,
   "metadata": {},
   "outputs": [
    {
     "name": "stdout",
     "output_type": "stream",
     "text": [
      "+1/23 = 1.6666666666666665\n"
     ]
    }
   ],
   "source": [
    "tree = BinaryTree(\"+\")\n",
    "tree.insert_left(\"1\")\n",
    "tree.insert_right(\"/\")\n",
    "tree.right_child.insert_left(\"2\")\n",
    "tree.right_child.insert_right(\"3\")\n",
    "print(\"+1/23 =\",eval_tree(tree))"
   ]
  },
  {
   "cell_type": "code",
   "execution_count": 4,
   "metadata": {},
   "outputs": [
    {
     "name": "stdout",
     "output_type": "stream",
     "text": [
      "+*123 = 5.0\n"
     ]
    }
   ],
   "source": [
    "tree = BinaryTree(\"+\")\n",
    "tree.insert_left(\"*\")\n",
    "tree.left_child.insert_left(\"1\")\n",
    "tree.left_child.insert_right(\"2\")\n",
    "tree.insert_right(\"3\")\n",
    "print(\"+*123 =\",eval_tree(tree))"
   ]
  },
  {
   "cell_type": "code",
   "execution_count": 5,
   "metadata": {},
   "outputs": [
    {
     "name": "stdout",
     "output_type": "stream",
     "text": [
      "*4-5+72 = -16.0\n"
     ]
    }
   ],
   "source": [
    "\ttree = BinaryTree(\"*\")\n",
    "tree.insert_left(\"4\")\n",
    "tree.insert_right(\"-\")\n",
    "tree.right_child.insert_left(\"5\")\n",
    "tree.right_child.insert_right(\"+\")\n",
    "tree.right_child.right_child.insert_left(\"7\")\n",
    "tree.right_child.right_child.insert_right(\"2\")\n",
    "print(\"*4-5+72 =\",eval_tree(tree))"
   ]
  },
  {
   "cell_type": "code",
   "execution_count": 6,
   "metadata": {},
   "outputs": [
    {
     "name": "stdout",
     "output_type": "stream",
     "text": [
      "/*+3427 = 2.0\n"
     ]
    }
   ],
   "source": [
    "tree = BinaryTree(\"/\")\n",
    "tree.insert_left(\"*\")\n",
    "tree.left_child.insert_left(\"+\")\n",
    "tree.left_child.left_child.insert_left(\"3\")\n",
    "tree.left_child.left_child.insert_right(\"4\")\n",
    "tree.left_child.insert_right(\"2\")\n",
    "tree.insert_right(\"7\")\n",
    "print(\"/*+3427 =\",eval_tree(tree))"
   ]
  }
 ],
 "metadata": {
  "kernelspec": {
   "display_name": "Python 3",
   "language": "python",
   "name": "python3"
  },
  "language_info": {
   "codemirror_mode": {
    "name": "ipython",
    "version": 3
   },
   "file_extension": ".py",
   "mimetype": "text/x-python",
   "name": "python",
   "nbconvert_exporter": "python",
   "pygments_lexer": "ipython3",
   "version": "3.12.1"
  }
 },
 "nbformat": 4,
 "nbformat_minor": 2
}
