{
 "cells": [
  {
   "cell_type": "code",
   "execution_count": 17,
   "metadata": {},
   "outputs": [],
   "source": [
    "class BinaryTree:\n",
    "    def __init__(self, root_obj):\n",
    "        self.key = root_obj\n",
    "        self.left_child = None\n",
    "        self.right_child = None\n",
    "\n",
    "    def insert_left(self, new_node):\n",
    "        if self.left_child is None:\n",
    "            self.left_child = BinaryTree(new_node)\n",
    "        else:\n",
    "            new_child = BinaryTree(new_node)\n",
    "            new_child.left_child = self.left_child\n",
    "            self.left_child = new_child\n",
    "\n",
    "    def insert_right(self, new_node):\n",
    "        if self.right_child == None:\n",
    "            self.right_child = BinaryTree(new_node)\n",
    "        else:\n",
    "            new_child = BinaryTree(new_node)\n",
    "            new_child.right_child = self.right_child\n",
    "            self.right_child = new_child\n",
    "\n",
    "    def get_root_val(self):\n",
    "        return self.key\n",
    "\n",
    "    def set_root_val(self, new_obj):\n",
    "        self.key = new_obj\n",
    "\n",
    "    def get_left_child(self):\n",
    "        return self.left_child\n",
    "\n",
    "    def get_right_child(self):\n",
    "        return self.right_child\n",
    "\n",
    "def print_tree(tree, level=0):\n",
    "    if tree != None:\n",
    "        print_tree(tree.get_right_child(), level + 1)\n",
    "        print(' '*level*2 + tree.get_root_val())\n",
    "        print_tree(tree.get_left_child(), level + 1)\n",
    "\n",
    "def fp_expr_to_expr_tree(fp_expr):\n",
    "    operand_stack, operator_stack = [], []              # intialize stack\n",
    "    \n",
    "    for i in range(len(fp_expr)):                       # loop all token\n",
    "        token = fp_expr[i]\n",
    "        if token == ')':                                # with closed bracket\n",
    "            while operator_stack[-1] != '(':            # loop until it's open bracket in the operator stack\n",
    "                operand2, operand1, operator = operand_stack.pop(), operand_stack.pop(), operator_stack.pop()\n",
    "                subtree = BinaryTree(operator)\n",
    "                \n",
    "                if not isinstance(operand1, BinaryTree):    # convert to the binary tree\n",
    "                    temptree = BinaryTree(operand1)\n",
    "                    operand1 = temptree\n",
    "                if not isinstance(operand2, BinaryTree):\n",
    "                    temptree = BinaryTree(operand2)\n",
    "                    operand2 = temptree\n",
    "                    \n",
    "                subtree.left_child, subtree.right_child = operand1, operand2 \n",
    "                operand_stack.append(subtree)               # push back to thee operand stack\n",
    "                \n",
    "            operator_stack.pop()\n",
    "                \n",
    "        elif token == '(':                                  # with open bracket\n",
    "            operator_stack.append(token)                    # push to the operattor stack\n",
    "            \n",
    "        elif token in \"+-*/^\":                              # with operator\n",
    "            while (token in \"+-\" and operator_stack[-1] in \"+-*/^\") \\\n",
    "                or (token in \"*/\" and operator_stack[-1] in \"*/^\"):    # loop it with token is equal or less than operator in the stack\n",
    "                    \n",
    "                operand2, operand1, operator = operand_stack.pop(), operand_stack.pop(), operator_stack.pop()\n",
    "                subtree = BinaryTree(operator)\n",
    "                \n",
    "                if not isinstance(operand1, BinaryTree):    # convert to the binary tree\n",
    "                    temptree = BinaryTree(operand1)\n",
    "                    operand1 = temptree\n",
    "                if not isinstance(operand2, BinaryTree):\n",
    "                    temptree = BinaryTree(operand2)\n",
    "                    operand2 = temptree\n",
    "                    \n",
    "                subtree.left_child, subtree.right_child = operand1, operand2\n",
    "                operand_stack.append(subtree)               # push back to thee operand stack\n",
    "                \n",
    "            operator_stack.append(token)                    # push token to the operator stack\n",
    "        else:\n",
    "            operand_stack.append(token)                     # with oeprand\n",
    "            \n",
    "        \n",
    "    return operand_stack.pop()                 # return the complete binary tree\n"
   ]
  },
  {
   "cell_type": "markdown",
   "metadata": {},
   "source": [
    "# Case example"
   ]
  },
  {
   "cell_type": "code",
   "execution_count": 18,
   "metadata": {},
   "outputs": [
    {
     "name": "stdout",
     "output_type": "stream",
     "text": [
      "    3\n",
      "  -\n",
      "    8\n",
      "+\n",
      "    7\n",
      "  *\n",
      "    2\n"
     ]
    }
   ],
   "source": [
    "print_tree(fp_expr_to_expr_tree(\"((2*7)+(8-3))\"))"
   ]
  },
  {
   "cell_type": "code",
   "execution_count": 19,
   "metadata": {},
   "outputs": [
    {
     "name": "stdout",
     "output_type": "stream",
     "text": [
      "    3\n",
      "  -\n",
      "    8\n",
      "+\n",
      "  7\n"
     ]
    }
   ],
   "source": [
    "print_tree(fp_expr_to_expr_tree(\"(7+(8-3))\"))"
   ]
  },
  {
   "cell_type": "code",
   "execution_count": 20,
   "metadata": {},
   "outputs": [
    {
     "name": "stdout",
     "output_type": "stream",
     "text": [
      "  8\n",
      "+\n",
      "    7\n",
      "  *\n",
      "    2\n"
     ]
    }
   ],
   "source": [
    "print_tree(fp_expr_to_expr_tree(\"((2*7)+8)\"))"
   ]
  },
  {
   "cell_type": "code",
   "execution_count": 21,
   "metadata": {},
   "outputs": [
    {
     "name": "stdout",
     "output_type": "stream",
     "text": [
      "  D\n",
      "+\n",
      "      C\n",
      "    *\n",
      "      B\n",
      "  +\n",
      "    A\n"
     ]
    }
   ],
   "source": [
    "print_tree(fp_expr_to_expr_tree(\"((A+(B*C))+D)\"))"
   ]
  },
  {
   "cell_type": "code",
   "execution_count": 22,
   "metadata": {},
   "outputs": [
    {
     "name": "stdout",
     "output_type": "stream",
     "text": [
      "    D\n",
      "  +\n",
      "    C\n",
      "*\n",
      "    B\n",
      "  +\n",
      "    A\n"
     ]
    }
   ],
   "source": [
    "print_tree(fp_expr_to_expr_tree(\"((A+B)*(C+D))\"))"
   ]
  },
  {
   "cell_type": "code",
   "execution_count": 23,
   "metadata": {},
   "outputs": [
    {
     "name": "stdout",
     "output_type": "stream",
     "text": [
      "      2\n",
      "    +\n",
      "      7\n",
      "  -\n",
      "    5\n",
      "*\n",
      "  4\n"
     ]
    }
   ],
   "source": [
    "print_tree(fp_expr_to_expr_tree(\"(4*(5-(7+2)))\"))"
   ]
  },
  {
   "cell_type": "code",
   "execution_count": 24,
   "metadata": {},
   "outputs": [
    {
     "name": "stdout",
     "output_type": "stream",
     "text": [
      "  7\n",
      "/\n",
      "    2\n",
      "  *\n",
      "      4\n",
      "    +\n",
      "      3\n"
     ]
    }
   ],
   "source": [
    "print_tree(fp_expr_to_expr_tree(\"(((3+4)*2)/7)\"))"
   ]
  }
 ],
 "metadata": {
  "kernelspec": {
   "display_name": "Python 3",
   "language": "python",
   "name": "python3"
  },
  "language_info": {
   "codemirror_mode": {
    "name": "ipython",
    "version": 3
   },
   "file_extension": ".py",
   "mimetype": "text/x-python",
   "name": "python",
   "nbconvert_exporter": "python",
   "pygments_lexer": "ipython3",
   "version": "3.12.1"
  }
 },
 "nbformat": 4,
 "nbformat_minor": 2
}
