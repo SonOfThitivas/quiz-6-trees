{
 "cells": [
  {
   "cell_type": "code",
   "execution_count": 1,
   "metadata": {},
   "outputs": [],
   "source": [
    "class BinaryTree:\n",
    "    def __init__(self, root_obj):\n",
    "        self.key = root_obj\n",
    "        self.left_child = None\n",
    "        self.right_child = None\n",
    "\n",
    "    def insert_left(self, new_node):\n",
    "        if self.left_child is None:\n",
    "            self.left_child = BinaryTree(new_node)\n",
    "        else:\n",
    "            new_child = BinaryTree(new_node)\n",
    "            new_child.left_child = self.left_child\n",
    "            self.left_child = new_child\n",
    "\n",
    "    def insert_right(self, new_node):\n",
    "        if self.right_child == None:\n",
    "            self.right_child = BinaryTree(new_node)\n",
    "        else:\n",
    "            new_child = BinaryTree(new_node)\n",
    "            new_child.right_child = self.right_child\n",
    "            self.right_child = new_child\n",
    "\n",
    "    def get_root_val(self):\n",
    "        return self.key\n",
    "\n",
    "    def set_root_val(self, new_obj):\n",
    "        self.key = new_obj\n",
    "\n",
    "    def get_left_child(self):\n",
    "        return self.left_child\n",
    "\n",
    "    def get_right_child(self):\n",
    "        return self.right_child\n",
    "\n",
    "def print_tree(tree, level=0):\n",
    "    if tree != None:\n",
    "        print_tree(tree.get_right_child(), level + 1)\n",
    "        print(' '*level*2 + tree.get_root_val())\n",
    "        print_tree(tree.get_left_child(), level + 1)\n",
    "\n",
    "def postfix_to_exp_tree(postfix):\n",
    "    stack = []                               # collect trees and operands\n",
    "    \n",
    "    for i in range(len(postfix)-1):             # stop before the last one\n",
    "        token = postfix[i]\n",
    "        \n",
    "        if token not in \"+-*/^\":                # if it is operands\n",
    "            stack.append(token)                 # push to stack\n",
    "        else:                                   # if it is operator\n",
    "            operand2, operand1, operator = stack.pop(), stack.pop(), token\n",
    "            subtree = BinaryTree(operator)         # create sub binary tree\n",
    "\n",
    "            if not isinstance(operand1, BinaryTree):        # convert them to binary tree\n",
    "                pretree = BinaryTree(operand1)\n",
    "                operand1 = pretree\n",
    "            if not isinstance(operand2, BinaryTree):\n",
    "                pretree = BinaryTree(operand2)\n",
    "                operand2 = pretree\n",
    "                \n",
    "            subtree.left_child = operand1        \n",
    "            subtree.right_child = operand2\n",
    "            stack.append(subtree)                 # push back to the stack\n",
    "    \n",
    "    \n",
    "    # clear all the reminder stack\n",
    "    right_subtree, left_subtree = stack.pop(), stack.pop()\n",
    "        \n",
    "    root = BinaryTree(postfix[-1])                       # creat root\n",
    "    \n",
    "    if not isinstance(right_subtree, BinaryTree):       # convert them to binary tree\n",
    "        subtree = BinaryTree(right_subtree)\n",
    "        right_subtree = subtree\n",
    "    if not isinstance(left_subtree, BinaryTree):\n",
    "        subtree = BinaryTree(left_subtree)\n",
    "        left_subtree = subtree\n",
    "        \n",
    "    root.left_child, root.right_child = left_subtree, right_subtree\n",
    "    \n",
    "    return root                 # return the complete binary tree\n"
   ]
  },
  {
   "cell_type": "markdown",
   "metadata": {},
   "source": [
    "# Case example"
   ]
  },
  {
   "cell_type": "code",
   "execution_count": 2,
   "metadata": {},
   "outputs": [
    {
     "name": "stdout",
     "output_type": "stream",
     "text": [
      "    4\n",
      "  /\n",
      "    3\n",
      "+\n",
      "    2\n",
      "  *\n",
      "    1\n"
     ]
    }
   ],
   "source": [
    "print_tree(postfix_to_exp_tree(\"12*34/+\"))"
   ]
  },
  {
   "cell_type": "markdown",
   "metadata": {},
   "source": [
    "\n",
    "    4\n",
    "  /\n",
    "    3\n",
    "+\n",
    "    2\n",
    "  *\n",
    "    1"
   ]
  },
  {
   "cell_type": "code",
   "execution_count": 3,
   "metadata": {},
   "outputs": [
    {
     "name": "stdout",
     "output_type": "stream",
     "text": [
      "    3\n",
      "  /\n",
      "    2\n",
      "+\n",
      "  1\n"
     ]
    }
   ],
   "source": [
    "print_tree(postfix_to_exp_tree(\"123/+\"))"
   ]
  },
  {
   "cell_type": "markdown",
   "metadata": {},
   "source": [
    "    3\n",
    "  /\n",
    "    2\n",
    "+\n",
    "  1"
   ]
  },
  {
   "cell_type": "code",
   "execution_count": 4,
   "metadata": {},
   "outputs": [
    {
     "name": "stdout",
     "output_type": "stream",
     "text": [
      "  3\n",
      "+\n",
      "    2\n",
      "  *\n",
      "    1\n"
     ]
    }
   ],
   "source": [
    "print_tree(postfix_to_exp_tree(\"12*3+\"))"
   ]
  },
  {
   "cell_type": "code",
   "execution_count": 5,
   "metadata": {},
   "outputs": [
    {
     "name": "stdout",
     "output_type": "stream",
     "text": [
      "  D\n",
      "+\n",
      "      C\n",
      "    *\n",
      "      B\n",
      "  +\n",
      "    A\n"
     ]
    }
   ],
   "source": [
    "print_tree(postfix_to_exp_tree(\"ABC*+D+\"))"
   ]
  },
  {
   "cell_type": "code",
   "execution_count": 6,
   "metadata": {},
   "outputs": [
    {
     "name": "stdout",
     "output_type": "stream",
     "text": [
      "      2\n",
      "    +\n",
      "      7\n",
      "  -\n",
      "    5\n",
      "*\n",
      "  4\n"
     ]
    }
   ],
   "source": [
    "print_tree(postfix_to_exp_tree(\"4572+-*\"))"
   ]
  },
  {
   "cell_type": "code",
   "execution_count": 7,
   "metadata": {},
   "outputs": [
    {
     "name": "stdout",
     "output_type": "stream",
     "text": [
      "  7\n",
      "/\n",
      "    2\n",
      "  *\n",
      "      4\n",
      "    +\n",
      "      3\n"
     ]
    }
   ],
   "source": [
    "print_tree(postfix_to_exp_tree(\"34+2*7/\"))"
   ]
  }
 ],
 "metadata": {
  "kernelspec": {
   "display_name": "Python 3",
   "language": "python",
   "name": "python3"
  },
  "language_info": {
   "codemirror_mode": {
    "name": "ipython",
    "version": 3
   },
   "file_extension": ".py",
   "mimetype": "text/x-python",
   "name": "python",
   "nbconvert_exporter": "python",
   "pygments_lexer": "ipython3",
   "version": "3.12.1"
  }
 },
 "nbformat": 4,
 "nbformat_minor": 2
}
